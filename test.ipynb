{
 "cells": [
  {
   "cell_type": "code",
   "execution_count": null,
   "id": "ab4f2f2e",
   "metadata": {},
   "outputs": [],
   "source": [
    "from diffusers import DiffusionPipeline, StableDiffusionImg2ImgPipeline, AutoencoderKL,StableDiffusionPipeline\n",
    "\n",
    "from transformers import AutoTokenizer, DistilBertForSequenceClassification\n",
    "from diffusers import EulerDiscreteScheduler\n",
    "import torch"
   ]
  },
  {
   "cell_type": "code",
   "execution_count": null,
   "id": "27b62b56",
   "metadata": {},
   "outputs": [],
   "source": [
    "import torch\n",
    "from PIL import Image\n",
    "import numpy as np"
   ]
  },
  {
   "cell_type": "code",
   "execution_count": null,
   "id": "2da83880",
   "metadata": {},
   "outputs": [],
   "source": [
    "from convert_prompt import * \n",
    "from embedding import * \n",
    "from text_encoder_hijack import * \n",
    "from textual_inversion import * "
   ]
  },
  {
   "cell_type": "code",
   "execution_count": null,
   "id": "42c7e554",
   "metadata": {},
   "outputs": [],
   "source": [
    "generator = DiffusionPipeline.from_pretrained(\"model_path\",torch_dtype=torch.float16,safety_checker=None)\n",
    "\n",
    "vae = AutoencoderKL.from_pretrained(\"vae_path\",torch_dtype=torch.float16,subfolder=\"vae\").to(\"cuda\")\n",
    "generator.vae = vae  \n",
    "\n",
    "generator.scheduler = EulerDiscreteScheduler.from_config(generator.scheduler.config)\n",
    "\n",
    "generator.to(\"cuda\") 
   ]
  },
  {
   "cell_type": "code",
   "execution_count": null,
   "id": "0a1b2b78",
   "metadata": {},
   "outputs": [],
   "source": [
    "CLIP_Tokenizer = generator.tokenizer\n",
    "CLIP_TextModel = generator.text_encoder"
   ]
  },
  {
   "cell_type": "code",
   "execution_count": null,
   "id": "414d5a1e",
   "metadata": {},
   "outputs": [],
   "source": [
    "# load TextualInversion\n",
    "TextualInversion = TextualInversionPlug('textual_inversion_path',tokenizer = CLIP_Tokenizer)\n",
    "TextualInversion.load_textual_inversion()"
   ]
  },
  {
   "cell_type": "code",
   "execution_count": null,
   "id": "c4df1fe3",
   "metadata": {},
   "outputs": [],
   "source": [
    "hijack = TextEncoderHijack()\n",
    "hijack.hijack_embeding(CLIP_TextModel)"
   ]
  },
  {
   "cell_type": "code",
   "execution_count": null,
   "id": "07e7d5f8",
   "metadata": {},
   "outputs": [],
   "source": [
    "embedding = EmbeddingExtent(tokenizer=CLIP_Tokenizer,text_encoder=CLIP_TextModel,textual_inversion_manager=TextualInversion,hijack=hijack,device=\"cuda\",dtype=torch.float16)\n"
   ]
  },
  {
   "cell_type": "code",
   "execution_count": null,
   "id": "6c7817d8",
   "metadata": {},
   "outputs": [],
   "source": [
    "prompt = \"(absurdres, highres, ultra detailed), 1 male, handsome, tall muscular guy, very short hair, best ratio four finger and one thumb, best light and shadow, background is back alley, detasiled sunlight, sitting, Little cats are gathered next to him, dappled sunlight, day, depth of field, plants, summer, (dutch angle), closed mouth, summer day\"\n",
    "\n",
    "\n",
    "negative = \"(hair between eyes), sketch, duplicate, ugly, huge eyes, text, logo, worst face, (bad and mutated hands:1.3), (worst quality:2.0), (low quality:2.0), (blurry:2.0), horror, geometry, bad_prompt, (bad hands), (missing fingers), multiple limbs, bad anatomy, (interlocked fingers:1.2), Ugly Fingers, (extra digit and hands and fingers and legs and arms:1.4), ((2girl)), (deformed fingers:1.2), (long fingers:1.2), extra legs, upper teeth, parted lips, open mouth\"\n"
   ]
  },
  {
   "cell_type": "code",
   "execution_count": null,
   "id": "18c7cb12",
   "metadata": {},
   "outputs": [],
   "source": [
    "prompt_pre_embedding = embedding(prompt,CLIP_stop_at_last_layers=1)\n",
    "negative_prompt_pre_embedding = embedding(negative,CLIP_stop_at_last_layers=1)"
   ]
  },
  {
   "cell_type": "code",
   "execution_count": null,
   "id": "e795f960",
   "metadata": {},
   "outputs": [],
   "source": [
    "prompt_pre_embedding,negative_prompt_pre_embedding = embedding.pad_prompt_tensor_same_length(prompt_emb=prompt_pre_embedding, negative_prompt_emb=negative_prompt_pre_embedding,CLIP_stop_at_last_layers=1)\n",
    "\n",
    "\n"
   ]
  },
  {
   "cell_type": "code",
   "execution_count": null,
   "id": "cf6127f2",
   "metadata": {},
   "outputs": [],
   "source": [
    "import random\n",
    "\n",
    "seed = int(random.randrange(4294967294))\n",
    "seed=4196966724\n",
    "print(seed)\n",
    "Generator = [torch.Generator(device=\"cuda\").manual_seed(i) for i in range(seed, seed + 1)]\n",
    "\n",
    "\n",
    "image = generator(prompt_embeds=prompt_pre_embedding,\n",
    "                  width=512,\n",
    "                  height=768,\n",
    "                  negative_prompt_embeds=negative_prompt_pre_embedding,\n",
    "                  num_inference_steps=20,\n",
    "                  guidance_scale=9,\n",
    "                  generator=Generator,\n",
    "                  num_images_per_prompt=1).images"
   ]
  },
  {
   "cell_type": "code",
   "execution_count": null,
   "id": "0d42b7c2",
   "metadata": {},
   "outputs": [],
   "source": [
    "image[0]"
   ]
  },
  {
   "cell_type": "code",
   "execution_count": null,
   "id": "630703d1",
   "metadata": {},
   "outputs": [],
   "source": []
  }
 ],
 "metadata": {
  "kernelspec": {
   "display_name": "wy_py310",
   "language": "python",
   "name": "wy_py310"
  },
  "language_info": {
   "codemirror_mode": {
    "name": "ipython",
    "version": 3
   },
   "file_extension": ".py",
   "mimetype": "text/x-python",
   "name": "python",
   "nbconvert_exporter": "python",
   "pygments_lexer": "ipython3",
   "version": "3.10.11"
  }
 },
 "nbformat": 4,
 "nbformat_minor": 5
}
