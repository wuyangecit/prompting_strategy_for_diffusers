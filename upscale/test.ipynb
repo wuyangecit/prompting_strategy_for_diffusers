{
 "cells": [
  {
   "cell_type": "code",
   "execution_count": null,
   "id": "ab4f2f2e",
   "metadata": {},
   "outputs": [],
   "source": [
    "from diffusers import DiffusionPipeline, StableDiffusionImg2ImgPipeline, AutoencoderKL,StableDiffusionPipeline\n",
    "\n",
    "from transformers import AutoTokenizer, DistilBertForSequenceClassification\n",
    "from diffusers import EulerDiscreteScheduler\n",
    "import torch"
   ]
  },
  {
   "cell_type": "code",
   "execution_count": null,
   "id": "27b62b56",
   "metadata": {},
   "outputs": [],
   "source": [
    "import torch\n",
    "from PIL import Image\n",
    "import numpy as np"
   ]
  },
  {
   "cell_type": "code",
   "execution_count": null,
   "id": "2da83880",
   "metadata": {},
   "outputs": [],
   "source": [
    "from upscale_utils import Upscale"
   ]
  },
  {
   "cell_type": "code",
   "execution_count": null,
   "id": "42c7e554",
   "metadata": {},
   "outputs": [],
   "source": [
    "generator = DiffusionPipeline.from_pretrained(\"../model/diffuser_model/\",torch_dtype=torch.float16,safety_checker=None)\n",
    "\n",
    "# vae = AutoencoderKL.from_pretrained(\"vae_path\",torch_dtype=torch.float16,subfolder=\"vae\").to(\"cuda\")\n",
    "# generator.vae = vae\n",
    "\n",
    "generator.scheduler = EulerDiscreteScheduler.from_config(generator.scheduler.config)\n",
    "\n",
    "generator.to(\"cuda\")"
   ]
  },
  {
   "cell_type": "code",
   "execution_count": null,
   "id": "0a1b2b78",
   "metadata": {},
   "outputs": [],
   "source": [
    "upscale_model_dir_path = '../model/upscale'\n",
    "upscale_generator = Upscale(upscale_model_dir_path)\n",
    "#加载upscale模型\n",
    "upscale_generator.upload_model_from_dir()\n",
    "print(f'load upscale model:{len(upscale_generator.models)}')"
   ]
  },
  {
   "cell_type": "code",
   "execution_count": null,
   "id": "6c7817d8",
   "metadata": {},
   "outputs": [],
   "source": [
    "prompt = \"(absurdres, highres, ultra detailed), 1 male, handsome, tall muscular guy, very short hair, best ratio four finger and one thumb, best light and shadow, background is back alley, detasiled sunlight, sitting, Little cats are gathered next to him, dappled sunlight, day, depth of field, plants, summer, (dutch angle), closed mouth, summer day\"\n",
    "\n",
    "\n",
    "negative = \"(hair between eyes), sketch, duplicate, ugly, huge eyes, text, logo, worst face, (bad and mutated hands:1.3), (worst quality:2.0), (low quality:2.0), (blurry:2.0), horror, geometry, bad_prompt, (bad hands), (missing fingers), multiple limbs, bad anatomy, (interlocked fingers:1.2), Ugly Fingers, (extra digit and hands and fingers and legs and arms:1.4), ((2girl)), (deformed fingers:1.2), (long fingers:1.2), extra legs, upper teeth, parted lips, open mouth\"\n"
   ]
  },
  {
   "cell_type": "code",
   "execution_count": null,
   "id": "18c7cb12",
   "metadata": {},
   "outputs": [],
   "source": []
  },
  {
   "cell_type": "code",
   "execution_count": null,
   "id": "e795f960",
   "metadata": {},
   "outputs": [],
   "source": []
  },
  {
   "cell_type": "code",
   "execution_count": null,
   "id": "cf6127f2",
   "metadata": {},
   "outputs": [],
   "source": [
    "import random\n",
    "\n",
    "seed = int(random.randrange(4294967294))\n",
    "seed=4196966724\n",
    "print(seed)\n",
    "Generator = [torch.Generator(device=\"cuda\").manual_seed(i) for i in range(seed, seed + 1)]\n",
    "\n",
    "#t2i\n",
    "image = generator(prompt=prompt,\n",
    "                  width=512,\n",
    "                  height=768,\n",
    "                  negative_prompt=negative,\n",
    "                  num_inference_steps=20,\n",
    "                  guidance_scale=9,\n",
    "                  generator=Generator,\n",
    "                  num_images_per_prompt=1).images"
   ]
  },
  {
   "cell_type": "code",
   "execution_count": null,
   "id": "0d42b7c2",
   "metadata": {},
   "outputs": [],
   "source": [
    "imgs = [image[0],]\n",
    "res_img = upscale_generator.upscale(imgs,scale_factor=2)\n",
    "img = Image.fromarray(np.uint8(res_img[0]))"
   ]
  },
  {
   "cell_type": "code",
   "execution_count": null,
   "id": "630703d1",
   "metadata": {},
   "outputs": [],
   "source": [
    "stable_diffusion_img2img = StableDiffusionImg2ImgPipeline(\n",
    "        vae=generator.vae,\n",
    "        text_encoder=generator.text_encoder,\n",
    "        tokenizer=generator.tokenizer,\n",
    "        unet=generator.unet,\n",
    "        scheduler=generator.scheduler,\n",
    "        safety_checker=None,\n",
    "        feature_extractor=None,\n",
    "        requires_safety_checker=False,)"
   ]
  },
  {
   "cell_type": "code",
   "execution_count": null,
   "outputs": [],
   "source": [
    "images = stable_diffusion_img2img(\n",
    "        prompt=prompt,\n",
    "        image=img,\n",
    "        strength=0.8,\n",
    "        num_inference_steps=20,\n",
    "        guidance_scale=9,\n",
    "        negative_prompt=negative,\n",
    "        num_images_per_prompt=1,\n",
    "        generator=Generator\n",
    "    ).images"
   ],
   "metadata": {
    "collapsed": false
   }
  },
  {
   "cell_type": "code",
   "execution_count": null,
   "outputs": [],
   "source": [
    "images[0]"
   ],
   "metadata": {
    "collapsed": false
   }
  }
 ],
 "metadata": {
  "kernelspec": {
   "display_name": "wy_py310",
   "language": "python",
   "name": "wy_py310"
  },
  "language_info": {
   "codemirror_mode": {
    "name": "ipython",
    "version": 3
   },
   "file_extension": ".py",
   "mimetype": "text/x-python",
   "name": "python",
   "nbconvert_exporter": "python",
   "pygments_lexer": "ipython3",
   "version": "3.10.11"
  }
 },
 "nbformat": 4,
 "nbformat_minor": 5
}
